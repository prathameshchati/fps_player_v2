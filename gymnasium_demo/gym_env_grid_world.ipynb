{
 "cells": [
  {
   "cell_type": "code",
   "execution_count": 2,
   "metadata": {},
   "outputs": [],
   "source": [
    "# https://gymnasium.farama.org/introduction/basic_usage/\n",
    "# https://gymnasium.farama.org/environments/box2d/\n",
    "\n",
    "import gymnasium as gym\n",
    "import gymnasium_env\n",
    "from gymnasium.wrappers import FlattenObservation\n",
    "import keyboard"
   ]
  },
  {
   "cell_type": "code",
   "execution_count": 6,
   "metadata": {},
   "outputs": [],
   "source": [
    "env = gym.make('gymnasium_env/GridWorld-v0', render_mode=\"human\")\n",
    "observation, info = env.reset()\n",
    "\n",
    "# done = False\n",
    "# print(\"Controls: W (up), S (down), A (left), D (right), Q (quit)\")\n",
    "# while not done:\n",
    "#     env.render() \n",
    "    \n",
    "#     action = None\n",
    "#     while action is None:\n",
    "#         if keyboard.is_pressed(\"w\"):\n",
    "#             action = 0  # Up\n",
    "#         elif keyboard.is_pressed(\"s\"):\n",
    "#             action = 1  # Down\n",
    "#         elif keyboard.is_pressed(\"a\"):\n",
    "#             action = 2  # Left\n",
    "#         elif keyboard.is_pressed(\"d\"):\n",
    "#             action = 3  # Right\n",
    "#         elif keyboard.is_pressed(\"q\"):\n",
    "#             print(\"Exiting...\")\n",
    "#             env.close()\n",
    "#             exit(0)\n",
    "\n",
    "#     observation, reward, done, truncated, info = env.step(action)\n",
    "#     print(f\"Reward: {reward}\")\n",
    "\n",
    "# env.close()"
   ]
  },
  {
   "cell_type": "code",
   "execution_count": 15,
   "metadata": {},
   "outputs": [],
   "source": [
    "observation, reward, terminated, truncated, info=env.step(env.action_space.sample())"
   ]
  },
  {
   "cell_type": "code",
   "execution_count": 21,
   "metadata": {},
   "outputs": [
    {
     "data": {
      "text/plain": [
       "({'agent': array([0, 1]), 'target': array([2, 4])},\n",
       " 0,\n",
       " False,\n",
       " False,\n",
       " {'distance': 5.0})"
      ]
     },
     "execution_count": 21,
     "metadata": {},
     "output_type": "execute_result"
    }
   ],
   "source": [
    "env.step(env.action_space.sample())"
   ]
  },
  {
   "cell_type": "code",
   "execution_count": 19,
   "metadata": {},
   "outputs": [
    {
     "name": "stdout",
     "output_type": "stream",
     "text": [
      "(array([3, 1, 4, 4]), {'distance': 4.0})\n"
     ]
    }
   ],
   "source": [
    "wrapped_env = FlattenObservation(env)\n",
    "print(wrapped_env.reset())     # E.g.  [3 0 3 3], {}\n"
   ]
  },
  {
   "cell_type": "code",
   "execution_count": null,
   "metadata": {},
   "outputs": [],
   "source": [
    "flatten"
   ]
  },
  {
   "cell_type": "code",
   "execution_count": 20,
   "metadata": {},
   "outputs": [
    {
     "data": {
      "text/plain": [
       "({'agent': array([1, 1]), 'target': array([2, 4])}, {'distance': 4.0})"
      ]
     },
     "execution_count": 20,
     "metadata": {},
     "output_type": "execute_result"
    }
   ],
   "source": [
    "env.reset()"
   ]
  },
  {
   "cell_type": "code",
   "execution_count": 22,
   "metadata": {},
   "outputs": [],
   "source": [
    "# FlattenObservation(observation)\n"
   ]
  },
  {
   "cell_type": "code",
   "execution_count": 23,
   "metadata": {},
   "outputs": [],
   "source": [
    "# wrapped_env"
   ]
  }
 ],
 "metadata": {
  "kernelspec": {
   "display_name": "Python 3",
   "language": "python",
   "name": "python3"
  },
  "language_info": {
   "codemirror_mode": {
    "name": "ipython",
    "version": 3
   },
   "file_extension": ".py",
   "mimetype": "text/x-python",
   "name": "python",
   "nbconvert_exporter": "python",
   "pygments_lexer": "ipython3",
   "version": "3.11.9"
  }
 },
 "nbformat": 4,
 "nbformat_minor": 2
}
